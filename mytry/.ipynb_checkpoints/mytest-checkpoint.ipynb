{
 "cells": [
  {
   "cell_type": "code",
   "execution_count": 1,
   "metadata": {
    "pycharm": {
     "is_executing": false
    }
   },
   "outputs": [
    {
     "name": "stdout",
     "output_type": "stream",
     "text": [
      "[[[16 19 15]\n",
      "  [16 19 15]\n",
      "  [16 19 15]]]\n"
     ]
    }
   ],
   "source": [
    "import numpy as np\n",
    "\n",
    "a = np.array([\n",
    "    [[3, 4, 5], [3, 4, 5], [3, 4, 5]],\n",
    "    [[5, 6, 7], [5, 6, 7], [5, 6, 7]],\n",
    "    [[8, 9, 3], [8, 9, 3], [8, 9, 3]],\n",
    "    ])\n",
    "\n",
    "b = np.sum(a, axis=0, keepdims=True)\n",
    "print(b)"
   ]
  },
  {
   "cell_type": "code",
   "execution_count": 2,
   "metadata": {
    "pycharm": {
     "is_executing": false
    }
   },
   "outputs": [
    {
     "name": "stdout",
     "output_type": "stream",
     "text": [
      "[[[ 9 12 15]]\n",
      "\n",
      " [[15 18 21]]\n",
      "\n",
      " [[24 27  9]]]\n"
     ]
    }
   ],
   "source": [
    "b = np.sum(a, axis=1, keepdims=True)\n",
    "print(b)"
   ]
  },
  {
   "cell_type": "code",
   "execution_count": 3,
   "metadata": {
    "pycharm": {
     "is_executing": false
    }
   },
   "outputs": [
    {
     "name": "stdout",
     "output_type": "stream",
     "text": [
      "[[[ 9 12 15]]\n",
      "\n",
      " [[15 18 21]]\n",
      "\n",
      " [[24 27  9]]]\n"
     ]
    }
   ],
   "source": [
    "b = np.sum(a, axis=1, keepdims=True)\n",
    "print(b)"
   ]
  },
  {
   "cell_type": "code",
   "execution_count": 3,
   "metadata": {
    "pycharm": {
     "is_executing": false
    }
   },
   "outputs": [],
   "source": []
  },
  {
   "cell_type": "code",
   "execution_count": 4,
   "metadata": {
    "pycharm": {
     "is_executing": false
    }
   },
   "outputs": [
    {
     "ename": "RuntimeError",
     "evalue": "The size of tensor a (5) must match the size of tensor b (3) at non-singleton dimension 0",
     "output_type": "error",
     "traceback": [
      "\u001b[1;31m---------------------------------------------------------------------------\u001b[0m",
      "\u001b[1;31mRuntimeError\u001b[0m                              Traceback (most recent call last)",
      "\u001b[1;32m<ipython-input-4-9944b42739e0>\u001b[0m in \u001b[0;36m<module>\u001b[1;34m\u001b[0m\n\u001b[0;32m      5\u001b[0m \u001b[1;33m\u001b[0m\u001b[0m\n\u001b[0;32m      6\u001b[0m \u001b[1;31m#第一种\u001b[0m\u001b[1;33m\u001b[0m\u001b[1;33m\u001b[0m\u001b[1;33m\u001b[0m\u001b[0m\n\u001b[1;32m----> 7\u001b[1;33m \u001b[0mprint\u001b[0m\u001b[1;33m(\u001b[0m\u001b[0mx\u001b[0m \u001b[1;33m+\u001b[0m \u001b[0my\u001b[0m\u001b[1;33m)\u001b[0m\u001b[1;33m\u001b[0m\u001b[1;33m\u001b[0m\u001b[0m\n\u001b[0m\u001b[0;32m      8\u001b[0m \u001b[1;33m\u001b[0m\u001b[0m\n\u001b[0;32m      9\u001b[0m \u001b[1;31m# #第二种\u001b[0m\u001b[1;33m\u001b[0m\u001b[1;33m\u001b[0m\u001b[1;33m\u001b[0m\u001b[0m\n",
      "\u001b[1;31mRuntimeError\u001b[0m: The size of tensor a (5) must match the size of tensor b (3) at non-singleton dimension 0"
     ]
    }
   ],
   "source": [
    "import torch\n",
    "\n",
    "x = torch.rand(5, 3)\n",
    "y = torch.rand(3, 3)\n",
    "\n",
    "#第一种\n",
    "print(x + y)\n",
    "\n",
    "# #第二种\n",
    "# print(torch.add(x, y))\n",
    "# #第三种\n",
    "# result = torch.empty(5, 3)\n",
    "# torch.add(x, y, out=result)\n",
    "# print(result)\n",
    "# #第四种\n",
    "# y.add_(x)\n",
    "# print(y)"
   ]
  },
  {
   "cell_type": "code",
   "execution_count": null,
   "metadata": {
    "pycharm": {
     "is_executing": false
    }
   },
   "outputs": [],
   "source": []
  },
  {
   "cell_type": "code",
   "execution_count": null,
   "metadata": {
    "pycharm": {
     "is_executing": false
    }
   },
   "outputs": [],
   "source": [
    "import torch\n",
    "\n",
    "a = Size(5) + (3, 4)\n",
    "print(str(a))\n",
    "print(type(a))"
   ]
  },
  {
   "cell_type": "code",
   "execution_count": null,
   "metadata": {
    "pycharm": {
     "is_executing": false
    }
   },
   "outputs": [],
   "source": []
  },
  {
   "cell_type": "code",
   "execution_count": null,
   "metadata": {
    "pycharm": {
     "is_executing": false
    }
   },
   "outputs": [],
   "source": [
    "import torch.nn as nn\n",
    "\n",
    "w = torch.empty(3, 5)\n",
    "nn.init.orthogonal_(w)\n",
    "\n",
    "print(w)"
   ]
  },
  {
   "cell_type": "code",
   "execution_count": null,
   "metadata": {
    "pycharm": {
     "is_executing": false
    }
   },
   "outputs": [],
   "source": [
    "print(w.size(0))\n",
    "print(w.size(1))"
   ]
  },
  {
   "cell_type": "code",
   "execution_count": null,
   "metadata": {
    "pycharm": {
     "is_executing": false
    }
   },
   "outputs": [],
   "source": []
  },
  {
   "cell_type": "code",
   "execution_count": null,
   "metadata": {
    "pycharm": {
     "is_executing": false
    }
   },
   "outputs": [],
   "source": [
    "import torch\n",
    "\n",
    "w = torch.empty(3, 5)\n",
    "attention_mask = (w > 0)\n",
    "\n",
    "print(attention_mask)"
   ]
  },
  {
   "cell_type": "code",
   "execution_count": null,
   "metadata": {
    "pycharm": {
     "is_executing": false
    }
   },
   "outputs": [],
   "source": [
    "import torch\n",
    "\n",
    "w = torch.tensor([\n",
    "    [[3, 4, 5], [3, 4, 5], [3, 4, 5]],\n",
    "    [[5, 6, 7], [5, 6, 7], [5, 6, 7]],\n",
    "    [[8, 9, 3], [8, 9, 3], [8, 9, 4]],\n",
    "    ])\n",
    "n = torch.max(w, dim = 1)\n",
    "\n",
    "print(n)"
   ]
  },
  {
   "cell_type": "code",
   "execution_count": null,
   "metadata": {
    "pycharm": {
     "is_executing": false
    }
   },
   "outputs": [],
   "source": []
  },
  {
   "cell_type": "code",
   "execution_count": null,
   "metadata": {
    "pycharm": {
     "is_executing": false
    }
   },
   "outputs": [],
   "source": [
    "keys = \"a;b;c\"\n",
    "keys = keys.split(';')\n",
    "print(keys)\n",
    "print(keys[:-1])"
   ]
  },
  {
   "cell_type": "code",
   "execution_count": null,
   "metadata": {
    "pycharm": {
     "is_executing": false
    }
   },
   "outputs": [],
   "source": [
    "a = \"aa\"\n",
    "b = \"bb\"\n",
    "c = a / 'c' / b\n",
    "print(c)"
   ]
  },
  {
   "cell_type": "code",
   "execution_count": null,
   "metadata": {
    "pycharm": {
     "is_executing": false
    }
   },
   "outputs": [],
   "source": [
    "# a = 1\n",
    "# b = [1, 2]\n",
    "# assert a in b ,'ture'\n",
    "\n",
    "# a = 1\n",
    "# b = [2]\n",
    "# assert a in b ,'ture'\n",
    "\n",
    "\n",
    "a = [0, 1, 2]\n",
    "b = [1, 2]\n",
    "assert all(k > 0 for k in  b) ,'ture'"
   ]
  },
  {
   "cell_type": "code",
   "execution_count": null,
   "metadata": {
    "pycharm": {
     "is_executing": false
    }
   },
   "outputs": [],
   "source": [
    "from functools import partial\n",
    "\n",
    "def add(*args):\n",
    "    return sum(args)\n",
    "\n",
    "add_100 = partial(add, 100)\n",
    "print(add_100(1, 2, 3))  # 106\n",
    "\n",
    "add_101 = partial(add, 101)\n",
    "print(add_101(1, 2, 3))  # 107"
   ]
  },
  {
   "cell_type": "code",
   "execution_count": null,
   "metadata": {
    "pycharm": {
     "is_executing": false
    }
   },
   "outputs": [],
   "source": [
    "j = {\n",
    "    \"trainer\": {\n",
    "        \"epochs\": 100,\n",
    "        \"saved\": \"saved/\",\n",
    "        \"save_period\": 1,\n",
    "        \"verbosity\": 2,\n",
    "        \"monitor\": \"min val_loss\",\n",
    "        \"tensorboard\": True\n",
    "    }\n",
    "}\n",
    "# \"early_stop\": 10,\n",
    "a = j['trainer'].get('early_stop', 'off')\n",
    "\n",
    "print(a)"
   ]
  },
  {
   "cell_type": "code",
   "execution_count": null,
   "metadata": {
    "pycharm": {
     "is_executing": false
    }
   },
   "outputs": [],
   "source": [
    "import torch\n",
    "\n",
    "a = torch.tensor([\n",
    "    [[3, 4, 5], [3, 4, 5], [3, 4, 5]],\n",
    "    [[5, 6, 7], [5, 6, 7], [5, 6, 7]],\n",
    "    ])\n",
    "\n",
    "print(a.size())\n",
    "\n",
    "b = a.squeeze(1)\n",
    "\n",
    "print(a.squeeze(2))\n",
    "print(a.squeeze(2).size())"
   ]
  },
  {
   "cell_type": "code",
   "execution_count": null,
   "metadata": {
    "pycharm": {
     "is_executing": false
    }
   },
   "outputs": [],
   "source": [
    "import torch\n",
    "\n",
    "preds = torch.tensor([1., 1., 1., 0., 0.])\n",
    "y = torch.tensor([1., 1., 1., 1., 1.])\n",
    "\n",
    "rounded_preds = torch.round(torch.sigmoid(preds))\n",
    "print(rounded_preds)\n",
    "\n",
    "correct = (rounded_preds == y).float()\n",
    "print(correct)\n",
    "\n",
    "acc = correct.sum() / len(correct)\n",
    "print(acc)"
   ]
  },
  {
   "cell_type": "code",
   "execution_count": null,
   "metadata": {
    "pycharm": {
     "is_executing": false
    }
   },
   "outputs": [],
   "source": [
    "import torch.nn.functional as F\n",
    "\n",
    "# 最大似然（log似然代价函数）\n",
    "def nll_loss(output, target):\n",
    "    return F.nll_loss(output, target)\n",
    "\n",
    "# 交叉熵\n",
    "def crossentropy_loss(output, target):\n",
    "    return F.cross_entropy(output, target)\n",
    "\n",
    "# 二分类交叉熵\n",
    "def binary_crossentropy_loss(output, target):\n",
    "    return F.binary_cross_entropy_with_logits(output, target)\n",
    "\n",
    "\n",
    "preds = torch.tensor([[1., 1., 1., 0., 0.][])\n",
    "y = torch.tensor([[1., 1., 1., 1., 1.]])\n",
    "\n",
    "print(nll_loss(preds,y))\n",
    "print(crossentropy_loss(preds,y))\n",
    "print(binary_crossentropy_loss(preds,y))"
   ]
  },
  {
   "cell_type": "code",
   "execution_count": null,
   "metadata": {
    "pycharm": {
     "is_executing": false
    }
   },
   "outputs": [],
   "source": [
    "import torch\n",
    "\n",
    "c = torch.randn((2,5))\n",
    "print(c)\n",
    "\n",
    "d = torch.reshape(c,(5,2))\n",
    "print(d)\n",
    "\n",
    "print(d.shape[1])\n",
    "\n",
    "e = torch.reshape(d, (-1,2,5))\n",
    "print(e)"
   ]
  },
  {
   "cell_type": "code",
   "execution_count": null,
   "metadata": {
    "pycharm": {
     "is_executing": false
    }
   },
   "outputs": [],
   "source": [
    "import torch\n",
    "\n",
    "# c = torch.randn((3,5))\n",
    "c = torch.randn((3,5,8))\n",
    "print(c)\n",
    "\n",
    "hidden = torch.mean(c, dim=1)\n",
    "print(hidden)"
   ]
  },
  {
   "cell_type": "code",
   "execution_count": null,
   "metadata": {
    "pycharm": {
     "is_executing": false
    }
   },
   "outputs": [],
   "source": [
    "if a:\n",
    "    print(True)\n",
    "else:\n",
    "    print(False)"
   ]
  },
  {
   "cell_type": "code",
   "execution_count": null,
   "metadata": {
    "pycharm": {
     "is_executing": false
    }
   },
   "outputs": [],
   "source": [
    "import torch\n",
    "\n",
    "a = torch.tensor([\n",
    "    [[3, 4, 5], [3, 4, 5], [3, 4, 5]],\n",
    "    [[5, 6, 7], [5, 6, 7], [5, 6, 7]],\n",
    "    ])\n",
    "print(a.size())\n",
    "\n",
    "b = a.unsqueeze(-2)\n",
    "print(b)\n",
    "print(b.size())"
   ]
  },
  {
   "cell_type": "code",
   "execution_count": null,
   "metadata": {
    "pycharm": {
     "is_executing": false
    }
   },
   "outputs": [],
   "source": [
    "import torch\n",
    "import torch.nn.functional as F\n",
    "\n",
    "a = torch.tensor([\n",
    "    [[3, 4, 5], [3, 4, 5], [3, 4, 5]],\n",
    "    [[5, 6, 7], [5, 6, 7], [5, 6, 7]],\n",
    "    ]).float()\n",
    "print(a)\n",
    "print(a.size())\n",
    "\n",
    "# b = torch.sum(a, dim=0)\n",
    "b = F.softmax(a, dim=0)\n",
    "print(b)"
   ]
  },
  {
   "cell_type": "code",
   "execution_count": null,
   "metadata": {
    "pycharm": {
     "is_executing": false
    }
   },
   "outputs": [],
   "source": [
    "import torch\n",
    "\n",
    "a = torch.tensor([\n",
    "    [[3, 4, 5], [3, 4, 5], [3, 4, 5]],\n",
    "    [[5, 6, 7], [5, 6, 7], [5, 6, 7]],\n",
    "    ]).float()\n",
    "\n",
    "print(a)\n",
    "print(a.size())\n",
    "print(a.shape[0])\n"
   ]
  },
  {
   "cell_type": "code",
   "execution_count": null,
   "metadata": {
    "pycharm": {
     "is_executing": false
    }
   },
   "outputs": [],
   "source": [
    "import torch\n",
    "\n",
    "torch.tensor([[1, 2, 3]]).size()"
   ]
  },
  {
   "cell_type": "code",
   "execution_count": null,
   "metadata": {
    "pycharm": {
     "is_executing": false
    }
   },
   "outputs": [],
   "source": [
    "import torch\n",
    "\n",
    "a = torch.tensor([\n",
    "    [[3, 4, 5], [3, 4, 5], [3, 4, 5]],\n",
    "    [[5, 6, 7], [5, 6, 7], [5, 6, 7]],\n",
    "    ])\n",
    "\n",
    "print(a)\n",
    "print(a.size())\n",
    "\n",
    "b = a.view(a.size(0), -1)\n",
    "print(b)\n",
    "print(b.size())"
   ]
  },
  {
   "cell_type": "code",
   "execution_count": null,
   "metadata": {
    "pycharm": {
     "is_executing": false
    }
   },
   "outputs": [],
   "source": [
    "import torch\n",
    "\n",
    "a = torch.tensor([\n",
    "    [[3, 4, 5, 4], [3, 4, 5, 4], [3, 4, 5, 4]],\n",
    "    [[5, 6, 7, 4], [5, 6, 7, 4], [5, 6, 7, 4]],\n",
    "    ])\n",
    "\n",
    "print(a)\n",
    "print(a.size())\n",
    "\n",
    "b = a.permute(1, 0, 2).contiguous()\n",
    "print(b)\n",
    "print(b.size())"
   ]
  },
  {
   "cell_type": "code",
   "execution_count": null,
   "metadata": {
    "pycharm": {
     "is_executing": false
    }
   },
   "outputs": [],
   "source": [
    "import torch\n",
    "\n",
    "a = torch.tensor([\n",
    "    [[3, 4, 5, 4], [3, 4, 5, 4], [3, 4, 5, 4]],\n",
    "    [[5, 6, 7, 4], [5, 6, 7, 4], [5, 6, 7, 4]],\n",
    "    ]).float()\n",
    "\n",
    "print(a)\n",
    "print(a.size())\n",
    "\n",
    "b=torch.mean(a, dim=0)\n",
    "print(b)\n",
    "print(b.size())"
   ]
  },
  {
   "cell_type": "code",
   "execution_count": null,
   "metadata": {
    "pycharm": {
     "is_executing": false
    }
   },
   "outputs": [],
   "source": [
    "import torch\n",
    "\n",
    "a = torch.tensor([\n",
    "    [[3, 4, 5, 4], [3, 4, 5, 4], [3, 4, 5, 4]],\n",
    "    [[5, 6, 7, 4], [5, 6, 7, 4], [5, 6, 7, 4]],\n",
    "    ]).float()\n",
    "\n",
    "\n",
    "b = torch.randn(4)\n",
    "\n",
    "score = torch.matmul(a, b)\n",
    "\n",
    "print(a)\n",
    "print(a.shape)\n",
    "\n",
    "print(b)\n",
    "print(b.shape)\n",
    "\n",
    "print(score)\n",
    "print(score.shape)"
   ]
  },
  {
   "cell_type": "code",
   "execution_count": null,
   "metadata": {
    "pycharm": {
     "is_executing": false
    }
   },
   "outputs": [],
   "source": [
    "import torch\n",
    "\n",
    "a = torch.randn(10 * 2)\n",
    "\n",
    "a"
   ]
  },
  {
   "cell_type": "code",
   "execution_count": null,
   "metadata": {
    "pycharm": {
     "is_executing": false
    }
   },
   "outputs": [],
   "source": [
    "import torch\n",
    "\n",
    "a = torch.tensor([\n",
    "    [[3, 4, 5, 4], [3, 4, 5, 4], [3, 4, 5, 4]],\n",
    "    [[5, 6, 7, 4], [5, 6, 7, 4], [5, 6, 7, 4]],\n",
    "    ]).float()\n",
    "\n",
    "\n",
    "b = torch.tensor([\n",
    "    [2, 2, 2],\n",
    "    [2, 2, 2],\n",
    "    ]).float()\n",
    "b = b.unsqueeze(-1)\n",
    "\n",
    "score = a * b\n",
    "\n",
    "print(a)\n",
    "print(a.shape)\n",
    "print(\"------\")\n",
    "print(b)\n",
    "print(b.shape)\n",
    "print(\"------\")\n",
    "print(score)\n",
    "print(score.shape)"
   ]
  },
  {
   "cell_type": "code",
   "execution_count": null,
   "metadata": {
    "pycharm": {
     "is_executing": false
    }
   },
   "outputs": [],
   "source": [
    "import torch\n",
    "\n",
    "a = torch.tensor([\n",
    "    [[3, 4, 5, 4], [3, 4, 5, 4], [3, 4, 5, 4]],\n",
    "    [[5, 6, 7, 4], [5, 6, 7, 4], [5, 6, 7, 4]],\n",
    "    ]).float()\n",
    "\n",
    "\n",
    "b = torch.sum(a, dim=0)\n",
    "\n",
    "print(a)\n",
    "print(a.shape)\n",
    "print(\"------\")\n",
    "print(b)\n",
    "print(b.shape)\n",
    "\n"
   ]
  },
  {
   "cell_type": "code",
   "execution_count": null,
   "metadata": {
    "pycharm": {
     "is_executing": false
    }
   },
   "outputs": [],
   "source": [
    "# keys = \"a;b;s\"\n",
    "keys = \"a;b;s;\"\n",
    "\n",
    "keys = keys.split(';')\n",
    "\n",
    "print(keys)"
   ]
  },
  {
   "cell_type": "code",
   "execution_count": null,
   "metadata": {
    "pycharm": {
     "is_executing": false
    }
   },
   "outputs": [],
   "source": [
    "import re\n",
    " \n",
    "# s = \"2004-959-559 # 这是一个国外电话号码\"\n",
    "# rule = re.compile(u'[^a-zA-Z0-9\\u4e00-\\u9fa5\"#$%&\\'()*+,-.:;<=>@\\\\^_`{|}]+')\n",
    "\n",
    "s = \"2004-959-559 #      这是一个国外电话号码  a \"\n",
    "rule = re.compile(u'[^b-zA-Z0-9\\u4e00-\\u9fa5\"#$%&\\'()*+,-.:;<=>@\\\\^_`{|}]+')\n",
    "\n",
    "s = re.sub(rule, '', s)\n",
    "s = re.sub('[#]+', '，', s)\n",
    "s = re.sub('[-]+', '+', s)\n",
    "print(s)"
   ]
  },
  {
   "cell_type": "code",
   "execution_count": null,
   "metadata": {
    "pycharm": {
     "is_executing": false
    }
   },
   "outputs": [],
   "source": [
    "if not '':\n",
    "    print(\"1\")"
   ]
  },
  {
   "cell_type": "code",
   "execution_count": null,
   "metadata": {
    "pycharm": {
     "is_executing": false
    }
   },
   "outputs": [],
   "source": [
    "lin = \"hhhhh\\taaaaa\\t\"\n",
    "content = lin.split('\\t')[0]\n",
    "\n",
    "print(content)"
   ]
  },
  {
   "cell_type": "code",
   "execution_count": null,
   "metadata": {
    "pycharm": {
     "is_executing": false
    }
   },
   "outputs": [],
   "source": [
    "import torch\n",
    "\n",
    "x = torch.randn(3, 4)\n",
    "print(x)\n",
    "\n",
    "sorted, indices = torch.sort(x)\n",
    "print(sorted)\n",
    "print(indices)"
   ]
  },
  {
   "cell_type": "code",
   "execution_count": null,
   "metadata": {
    "pycharm": {
     "is_executing": false
    }
   },
   "outputs": [],
   "source": [
    "import torch\n",
    "\n",
    "x = torch.randn(3, 4)\n",
    "y = x\n",
    "print(x)\n",
    "print(y)\n",
    "print(\"----------\")\n",
    "\n",
    "sorted, indices = torch.sort(x, descending=True)\n",
    "print(sorted)\n",
    "print(indices)\n",
    "print(\"----------\")\n",
    "\n",
    "sorted, indices = torch.sort(y, descending=False)\n",
    "print(sorted)\n",
    "print(indices)"
   ]
  },
  {
   "cell_type": "code",
   "execution_count": null,
   "metadata": {
    "pycharm": {
     "is_executing": false
    }
   },
   "outputs": [],
   "source": [
    "import torch\n",
    "\n",
    "x = torch.randn(3, 4)\n",
    "print(x)\n",
    "print(\"----------\")\n",
    "\n",
    "sorted, indices = torch.sort(x, descending=True)\n",
    "print(sorted)\n",
    "print(indices)\n",
    "print(\"----------\")\n",
    "\n",
    "sorted, indices = torch.sort(indices, descending=False)\n",
    "print(sorted)\n",
    "print(indices)"
   ]
  },
  {
   "cell_type": "code",
   "execution_count": null,
   "metadata": {
    "pycharm": {
     "is_executing": false
    }
   },
   "outputs": [],
   "source": [
    "import jieba\n",
    "\n",
    "str1 = \"我几天都不太开心，兴高采烈的日子已经不去复返，，，zzwzwzwzwzw，■♠▍♬嘿嘿 苦笑 呲牙 强颜欢笑 憨笑\"\n",
    "\n",
    "result = jieba.lcut(str1)\n",
    "\n",
    "print(result)"
   ]
  },
  {
   "cell_type": "code",
   "execution_count": null,
   "metadata": {
    "pycharm": {
     "is_executing": false
    }
   },
   "outputs": [],
   "source": []
  },
  {
   "cell_type": "code",
   "execution_count": null,
   "metadata": {
    "pycharm": {
     "is_executing": false
    }
   },
   "outputs": [],
   "source": [
    "import numpy as np\n",
    "from sklearn.metrics import accuracy_score\n",
    "from sklearn.metrics import precision_score\n",
    "from sklearn.metrics import recall_score\n",
    "from sklearn.metrics import f1_score\n",
    "from sklearn import metrics\n",
    "from sklearn.metrics import auc \n",
    "\n",
    "# y_true = [1, 1, 1, 1, 1,    0, 0, 0, 0, 0]\n",
    "# y_pred = [0, 0, 1, 1, 1,    1, 0, 0, 0, 0]\n",
    "\n",
    "# TP，3\n",
    "# FP，1\n",
    "# TN，4\n",
    "# FN，2\n",
    "\n",
    "# Acc，(3+4)/10=0.7\n",
    "# P，3/(3+1)=0.75\n",
    "# R，3/(3+2)=0.6\n",
    "# F1，(2×0.75×0.6)/(0.75+0.6)=0.667\n",
    "\n",
    "# Sensitivity，3/(3+2)=0.6\n",
    "# Specificity，4/(1+4)=0.8\n",
    "# TPR，0.6\n",
    "# FPR，0.2\n",
    "\n",
    "# 准确率，\n",
    "# Accuracy = (TP + TN) / (TP + TN + FP + FN)\n",
    "# 精确率（差准率），\n",
    "# Precision = TP / (TP + FP)\n",
    "# 召回率（查全率），\n",
    "# Recall = TP / (TP + FN)\n",
    "# F1值，\n",
    "# F1 = (2×P×R) /（P+R）\n",
    "\n",
    "# 灵敏度（召回率），\n",
    "# Sensitivity = TP / (TP + FN)\n",
    "# 特异度（由于我们比较关心正样本，所以需要查看有多少负样本被错误地预测为正样本，所以使用（1-特异度），而不是特异度），\n",
    "# Specificity = TN / (FP + TN)\n",
    "# 真正率，\n",
    "# TPR = Sensitivity = TP / (TP + FN)\n",
    "# 假正率，\n",
    "# FPR = 1-Specificity = FP / (FP + TN)\n",
    "\n",
    "y_true = [1, 1, 1, 1, 1,    0, 0, 0, 0, 0]\n",
    "y_pred = [0, 0, 1, 1, 1,    1, 0, 0, 0, 0]\n",
    "\n",
    "print(accuracy_score(y_true, y_pred))\n",
    "print(precision_score(y_true, y_pred))\n",
    "print(recall_score(y_true, y_pred))\n",
    "print(f1_score(y_true, y_pred))\n",
    "\n",
    "fpr, tpr, thresholds = metrics.roc_curve(y_true, y_pred, pos_label=1)\n",
    "print(metrics.auc(fpr, tpr))"
   ]
  },
  {
   "cell_type": "code",
   "execution_count": null,
   "metadata": {
    "pycharm": {
     "is_executing": false
    }
   },
   "outputs": [],
   "source": [
    "import pandas as pd\n",
    "\n",
    "df = pd.read_csv(\"./all_corpus_100k.csv\")\n",
    "df = df.sample(frac=1)\n",
    "\n",
    "df.to_csv(\"./all_corpus_100k_shuffle.csv\", index=False)"
   ]
  },
  {
   "cell_type": "code",
   "execution_count": null,
   "metadata": {
    "pycharm": {
     "is_executing": false
    }
   },
   "outputs": [],
   "source": [
    "import synonyms\n",
    "synonyms.seg(\"中文，877%……&，近义词工具包/\\js\")"
   ]
  },
  {
   "cell_type": "code",
   "execution_count": null,
   "metadata": {
    "pycharm": {
     "is_executing": false
    }
   },
   "outputs": [],
   "source": [
    "print(synonyms.nearby(\"温泉\"))\n",
    "print(synonyms.nearby(\"不错\"))\n",
    "print(synonyms.nearby(\"美丽\"))\n",
    "print(synonyms.nearby(\"舒适\"))\n",
    "\n",
    "print(synonyms.nearby(\"机器学习\"))\n",
    "print(synonyms.nearby(\"情感分析\"))\n",
    "print(synonyms.nearby(\"877\"))\n",
    "print(synonyms.nearby(\"最好\"))"
   ]
  },
  {
   "cell_type": "code",
   "execution_count": 9,
   "metadata": {
    "pycharm": {
     "is_executing": false
    }
   },
   "outputs": [
    {
     "name": "stdout",
     "output_type": "stream",
     "text": [
      "在天目湖半山腰，最顶上可以看到天目湖。希望其它客人要小心，货比三家，切防挨斩。周边吃饭不方便，选择少，服务最好的居然是电瓶车的行李员。\n",
      "在天目湖半山腰，最顶上可以看见天目湖。期望其它客人要小心，货比三家，切防挨斩杀。周边吃饭不方便，选择少，服务最好的竟然是电瓶车的行李员。\n"
     ]
    }
   ],
   "source": [
    "import synonyms\n",
    "# text = \"价钱贵，不要上当。\"\n",
    "text = \"在天目湖半山腰，最顶上可以看到天目湖。希望其它客人要小心，货比三家，切防挨斩。周边吃饭不方便，选择少，服务最好的居然是电瓶车的行李员。\"\n",
    "text_seg = list(synonyms.seg(text))\n",
    "for i in range(len(text_seg[0])):\n",
    "    if len(synonyms.nearby(text_seg[0][i])[0]) != 0 and synonyms.nearby(text_seg[0][i])[1][1] >= 0.8:\n",
    "        text_seg[0][i] = str(synonyms.nearby(text_seg[0][i])[0][1])\n",
    "text_ok = \"\".join(text_seg[0])\n",
    "print(text)\n",
    "print(text_ok)"
   ]
  },
  {
   "cell_type": "code",
   "execution_count": null,
   "metadata": {
    "pycharm": {
     "is_executing": false
    }
   },
   "outputs": [],
   "source": []
  },
  {
   "cell_type": "code",
   "execution_count": 8,
   "metadata": {
    "pycharm": {
     "is_executing": false
    }
   },
   "outputs": [
    {
     "data": {
      "text/html": [
       "<div>\n",
       "<style scoped>\n",
       "    .dataframe tbody tr th:only-of-type {\n",
       "        vertical-align: middle;\n",
       "    }\n",
       "\n",
       "    .dataframe tbody tr th {\n",
       "        vertical-align: top;\n",
       "    }\n",
       "\n",
       "    .dataframe thead th {\n",
       "        text-align: right;\n",
       "    }\n",
       "</style>\n",
       "<table border=\"1\" class=\"dataframe\">\n",
       "  <thead>\n",
       "    <tr style=\"text-align: right;\">\n",
       "      <th></th>\n",
       "      <th>evaluate_id</th>\n",
       "      <th>uid</th>\n",
       "      <th>type</th>\n",
       "      <th>row_id</th>\n",
       "      <th>level_data</th>\n",
       "      <th>content</th>\n",
       "      <th>ctime</th>\n",
       "      <th>is_anonymous</th>\n",
       "      <th>table</th>\n",
       "      <th>attach_id</th>\n",
       "      <th>is_show</th>\n",
       "    </tr>\n",
       "  </thead>\n",
       "  <tbody>\n",
       "    <tr>\n",
       "      <th>0</th>\n",
       "      <td>1</td>\n",
       "      <td>145724</td>\n",
       "      <td>NaN</td>\n",
       "      <td>1711093029</td>\n",
       "      <td>a:4:{s:5:\"total\";s:1:\"5\";s:7:\"service\";s:1:\"5\"...</td>\n",
       "      <td>非常好</td>\n",
       "      <td>1510308468</td>\n",
       "      <td>1</td>\n",
       "      <td>order</td>\n",
       "      <td>NaN</td>\n",
       "      <td>1</td>\n",
       "    </tr>\n",
       "    <tr>\n",
       "      <th>1</th>\n",
       "      <td>2</td>\n",
       "      <td>145724</td>\n",
       "      <td>NaN</td>\n",
       "      <td>1711093029</td>\n",
       "      <td>a:4:{s:5:\"total\";s:1:\"5\";s:7:\"service\";s:1:\"5\"...</td>\n",
       "      <td>非常好</td>\n",
       "      <td>1510308565</td>\n",
       "      <td>1</td>\n",
       "      <td>order</td>\n",
       "      <td>NaN</td>\n",
       "      <td>1</td>\n",
       "    </tr>\n",
       "    <tr>\n",
       "      <th>2</th>\n",
       "      <td>3</td>\n",
       "      <td>145724</td>\n",
       "      <td>NaN</td>\n",
       "      <td>1711093028</td>\n",
       "      <td>a:4:{s:5:\"total\";s:1:\"5\";s:7:\"service\";s:1:\"5\"...</td>\n",
       "      <td>非常好</td>\n",
       "      <td>1510366978</td>\n",
       "      <td>1</td>\n",
       "      <td>order</td>\n",
       "      <td>NaN</td>\n",
       "      <td>1</td>\n",
       "    </tr>\n",
       "    <tr>\n",
       "      <th>3</th>\n",
       "      <td>4</td>\n",
       "      <td>145724</td>\n",
       "      <td>NaN</td>\n",
       "      <td>1711093020</td>\n",
       "      <td>a:4:{s:5:\"total\";s:1:\"5\";s:7:\"service\";s:1:\"5\"...</td>\n",
       "      <td>非常好</td>\n",
       "      <td>1510367565</td>\n",
       "      <td>1</td>\n",
       "      <td>order</td>\n",
       "      <td>NaN</td>\n",
       "      <td>1</td>\n",
       "    </tr>\n",
       "    <tr>\n",
       "      <th>4</th>\n",
       "      <td>5</td>\n",
       "      <td>70870</td>\n",
       "      <td>NaN</td>\n",
       "      <td>1710143133</td>\n",
       "      <td>a:4:{s:5:\"total\";s:1:\"5\";s:7:\"service\";s:1:\"5\"...</td>\n",
       "      <td>好评</td>\n",
       "      <td>1510832488</td>\n",
       "      <td>1</td>\n",
       "      <td>order</td>\n",
       "      <td>NaN</td>\n",
       "      <td>1</td>\n",
       "    </tr>\n",
       "    <tr>\n",
       "      <th>5</th>\n",
       "      <td>6</td>\n",
       "      <td>21875</td>\n",
       "      <td>NaN</td>\n",
       "      <td>1709143024</td>\n",
       "      <td>a:4:{s:5:\"total\";s:1:\"5\";s:7:\"service\";s:1:\"5\"...</td>\n",
       "      <td>挺不错的</td>\n",
       "      <td>1510974794</td>\n",
       "      <td>1</td>\n",
       "      <td>order</td>\n",
       "      <td>NaN</td>\n",
       "      <td>1</td>\n",
       "    </tr>\n",
       "    <tr>\n",
       "      <th>6</th>\n",
       "      <td>7</td>\n",
       "      <td>149925</td>\n",
       "      <td>NaN</td>\n",
       "      <td>1711104283</td>\n",
       "      <td>a:4:{s:5:\"total\";s:1:\"5\";s:7:\"service\";s:1:\"5\"...</td>\n",
       "      <td>不错</td>\n",
       "      <td>1511161880</td>\n",
       "      <td>1</td>\n",
       "      <td>order</td>\n",
       "      <td>NaN</td>\n",
       "      <td>1</td>\n",
       "    </tr>\n",
       "    <tr>\n",
       "      <th>7</th>\n",
       "      <td>8</td>\n",
       "      <td>71746</td>\n",
       "      <td>NaN</td>\n",
       "      <td>1710313307</td>\n",
       "      <td>a:4:{s:5:\"total\";s:1:\"5\";s:7:\"service\";s:1:\"5\"...</td>\n",
       "      <td>非常好</td>\n",
       "      <td>1511747525</td>\n",
       "      <td>1</td>\n",
       "      <td>order</td>\n",
       "      <td>NaN</td>\n",
       "      <td>1</td>\n",
       "    </tr>\n",
       "    <tr>\n",
       "      <th>8</th>\n",
       "      <td>9</td>\n",
       "      <td>152490</td>\n",
       "      <td>NaN</td>\n",
       "      <td>1711133142</td>\n",
       "      <td>a:4:{s:5:\"total\";s:1:\"5\";s:7:\"service\";s:1:\"5\"...</td>\n",
       "      <td>好评</td>\n",
       "      <td>1511946968</td>\n",
       "      <td>1</td>\n",
       "      <td>order</td>\n",
       "      <td>NaN</td>\n",
       "      <td>1</td>\n",
       "    </tr>\n",
       "    <tr>\n",
       "      <th>9</th>\n",
       "      <td>10</td>\n",
       "      <td>147048</td>\n",
       "      <td>NaN</td>\n",
       "      <td>1711103437</td>\n",
       "      <td>a:4:{s:5:\"total\";s:1:\"5\";s:7:\"service\";s:1:\"5\"...</td>\n",
       "      <td>好开心一次泡温泉与美食同行，美食琳琅满目，回味无穷，期待商家多D发行优惠券，这样的话这个冬天...</td>\n",
       "      <td>1511958637</td>\n",
       "      <td>1</td>\n",
       "      <td>order</td>\n",
       "      <td>3929;3930</td>\n",
       "      <td>1</td>\n",
       "    </tr>\n",
       "  </tbody>\n",
       "</table>\n",
       "</div>"
      ],
      "text/plain": [
       "   evaluate_id     uid  type      row_id  \\\n",
       "0            1  145724   NaN  1711093029   \n",
       "1            2  145724   NaN  1711093029   \n",
       "2            3  145724   NaN  1711093028   \n",
       "3            4  145724   NaN  1711093020   \n",
       "4            5   70870   NaN  1710143133   \n",
       "5            6   21875   NaN  1709143024   \n",
       "6            7  149925   NaN  1711104283   \n",
       "7            8   71746   NaN  1710313307   \n",
       "8            9  152490   NaN  1711133142   \n",
       "9           10  147048   NaN  1711103437   \n",
       "\n",
       "                                          level_data  \\\n",
       "0  a:4:{s:5:\"total\";s:1:\"5\";s:7:\"service\";s:1:\"5\"...   \n",
       "1  a:4:{s:5:\"total\";s:1:\"5\";s:7:\"service\";s:1:\"5\"...   \n",
       "2  a:4:{s:5:\"total\";s:1:\"5\";s:7:\"service\";s:1:\"5\"...   \n",
       "3  a:4:{s:5:\"total\";s:1:\"5\";s:7:\"service\";s:1:\"5\"...   \n",
       "4  a:4:{s:5:\"total\";s:1:\"5\";s:7:\"service\";s:1:\"5\"...   \n",
       "5  a:4:{s:5:\"total\";s:1:\"5\";s:7:\"service\";s:1:\"5\"...   \n",
       "6  a:4:{s:5:\"total\";s:1:\"5\";s:7:\"service\";s:1:\"5\"...   \n",
       "7  a:4:{s:5:\"total\";s:1:\"5\";s:7:\"service\";s:1:\"5\"...   \n",
       "8  a:4:{s:5:\"total\";s:1:\"5\";s:7:\"service\";s:1:\"5\"...   \n",
       "9  a:4:{s:5:\"total\";s:1:\"5\";s:7:\"service\";s:1:\"5\"...   \n",
       "\n",
       "                                             content       ctime  \\\n",
       "0                                                非常好  1510308468   \n",
       "1                                                非常好  1510308565   \n",
       "2                                                非常好  1510366978   \n",
       "3                                                非常好  1510367565   \n",
       "4                                                 好评  1510832488   \n",
       "5                                               挺不错的  1510974794   \n",
       "6                                                 不错  1511161880   \n",
       "7                                                非常好  1511747525   \n",
       "8                                                 好评  1511946968   \n",
       "9  好开心一次泡温泉与美食同行，美食琳琅满目，回味无穷，期待商家多D发行优惠券，这样的话这个冬天...  1511958637   \n",
       "\n",
       "   is_anonymous  table  attach_id  is_show  \n",
       "0             1  order        NaN        1  \n",
       "1             1  order        NaN        1  \n",
       "2             1  order        NaN        1  \n",
       "3             1  order        NaN        1  \n",
       "4             1  order        NaN        1  \n",
       "5             1  order        NaN        1  \n",
       "6             1  order        NaN        1  \n",
       "7             1  order        NaN        1  \n",
       "8             1  order        NaN        1  \n",
       "9             1  order  3929;3930        1  "
      ]
     },
     "execution_count": 8,
     "metadata": {},
     "output_type": "execute_result"
    }
   ],
   "source": [
    "import pandas as pd\n",
    "import json\n",
    "import math\n",
    "from numpy import NaN\n",
    "from pandas import Series, DataFrame\n",
    "import numpy as np\n",
    "import pandas as pd\n",
    "\n",
    "df = pd.read_csv('./ts_evaluate.csv')\n",
    "df.head(10)"
   ]
  },
  {
   "cell_type": "code",
   "execution_count": 9,
   "metadata": {
    "pycharm": {
     "is_executing": false
    }
   },
   "outputs": [
    {
     "data": {
      "text/html": [
       "<div>\n",
       "<style scoped>\n",
       "    .dataframe tbody tr th:only-of-type {\n",
       "        vertical-align: middle;\n",
       "    }\n",
       "\n",
       "    .dataframe tbody tr th {\n",
       "        vertical-align: top;\n",
       "    }\n",
       "\n",
       "    .dataframe thead th {\n",
       "        text-align: right;\n",
       "    }\n",
       "</style>\n",
       "<table border=\"1\" class=\"dataframe\">\n",
       "  <thead>\n",
       "    <tr style=\"text-align: right;\">\n",
       "      <th></th>\n",
       "      <th>uid</th>\n",
       "      <th>row_id</th>\n",
       "      <th>level_data_total</th>\n",
       "    </tr>\n",
       "  </thead>\n",
       "  <tbody>\n",
       "    <tr>\n",
       "      <th>521</th>\n",
       "      <td>466901</td>\n",
       "      <td>1910153132</td>\n",
       "      <td>5</td>\n",
       "    </tr>\n",
       "    <tr>\n",
       "      <th>200</th>\n",
       "      <td>271565</td>\n",
       "      <td>1810313231</td>\n",
       "      <td>5</td>\n",
       "    </tr>\n",
       "    <tr>\n",
       "      <th>480</th>\n",
       "      <td>452307</td>\n",
       "      <td>1909163203</td>\n",
       "      <td>5</td>\n",
       "    </tr>\n",
       "    <tr>\n",
       "      <th>287</th>\n",
       "      <td>208096</td>\n",
       "      <td>1902153131</td>\n",
       "      <td>5</td>\n",
       "    </tr>\n",
       "    <tr>\n",
       "      <th>365</th>\n",
       "      <td>155784</td>\n",
       "      <td>1906053087</td>\n",
       "      <td>5</td>\n",
       "    </tr>\n",
       "    <tr>\n",
       "      <th>86</th>\n",
       "      <td>193867</td>\n",
       "      <td>1802283228</td>\n",
       "      <td>5</td>\n",
       "    </tr>\n",
       "    <tr>\n",
       "      <th>5</th>\n",
       "      <td>21875</td>\n",
       "      <td>1709143024</td>\n",
       "      <td>5</td>\n",
       "    </tr>\n",
       "    <tr>\n",
       "      <th>84</th>\n",
       "      <td>215780</td>\n",
       "      <td>1807283111</td>\n",
       "      <td>5</td>\n",
       "    </tr>\n",
       "    <tr>\n",
       "      <th>633</th>\n",
       "      <td>469171</td>\n",
       "      <td>2001110595</td>\n",
       "      <td>5</td>\n",
       "    </tr>\n",
       "    <tr>\n",
       "      <th>645</th>\n",
       "      <td>481584</td>\n",
       "      <td>1911080412</td>\n",
       "      <td>5</td>\n",
       "    </tr>\n",
       "  </tbody>\n",
       "</table>\n",
       "</div>"
      ],
      "text/plain": [
       "        uid      row_id level_data_total\n",
       "521  466901  1910153132                5\n",
       "200  271565  1810313231                5\n",
       "480  452307  1909163203                5\n",
       "287  208096  1902153131                5\n",
       "365  155784  1906053087                5\n",
       "86   193867  1802283228                5\n",
       "5     21875  1709143024                5\n",
       "84   215780  1807283111                5\n",
       "633  469171  2001110595                5\n",
       "645  481584  1911080412                5"
      ]
     },
     "execution_count": 9,
     "metadata": {},
     "output_type": "execute_result"
    }
   ],
   "source": [
    "j = df.to_json(orient='index')\n",
    "j = json.loads(j)\n",
    "\n",
    "new_df = pd.DataFrame({'uid': {}, 'row_id': {}, 'level_data_total': {}})\n",
    "str_num = 0\n",
    "\n",
    "for idx, val in enumerate(j):\n",
    "    uid = df.loc[idx, 'uid']\n",
    "    row_id = df.loc[idx, 'row_id']\n",
    "\n",
    "    level_data = str(j[str(idx)]['level_data'])\n",
    "    split = level_data.split('\"total\";s:1:\"')\n",
    "    level_data_total = int(split[1][0])\n",
    "    new_line = [str(uid), str(row_id), str(level_data_total)]\n",
    "    new_df.loc[str_num] = new_line\n",
    "    str_num += 1\n",
    "\n",
    "new_df = new_df.drop_duplicates()\n",
    "new_df.to_csv(\"./ts_evaluate_0.csv\", index=False)\n",
    "new_df.sample(10)"
   ]
  },
  {
   "cell_type": "code",
   "execution_count": 10,
   "metadata": {
    "pycharm": {
     "is_executing": false
    }
   },
   "outputs": [
    {
     "data": {
      "text/html": [
       "<div>\n",
       "<style scoped>\n",
       "    .dataframe tbody tr th:only-of-type {\n",
       "        vertical-align: middle;\n",
       "    }\n",
       "\n",
       "    .dataframe tbody tr th {\n",
       "        vertical-align: top;\n",
       "    }\n",
       "\n",
       "    .dataframe thead th {\n",
       "        text-align: right;\n",
       "    }\n",
       "</style>\n",
       "<table border=\"1\" class=\"dataframe\">\n",
       "  <thead>\n",
       "    <tr style=\"text-align: right;\">\n",
       "      <th></th>\n",
       "      <th>uid</th>\n",
       "      <th>row_id</th>\n",
       "      <th>level_data_total</th>\n",
       "    </tr>\n",
       "  </thead>\n",
       "  <tbody>\n",
       "    <tr>\n",
       "      <th>184</th>\n",
       "      <td>245618</td>\n",
       "      <td>1901083008</td>\n",
       "      <td>5</td>\n",
       "    </tr>\n",
       "    <tr>\n",
       "      <th>264</th>\n",
       "      <td>376697</td>\n",
       "      <td>1903163019</td>\n",
       "      <td>5</td>\n",
       "    </tr>\n",
       "    <tr>\n",
       "      <th>5</th>\n",
       "      <td>149925</td>\n",
       "      <td>1711104283</td>\n",
       "      <td>5</td>\n",
       "    </tr>\n",
       "    <tr>\n",
       "      <th>172</th>\n",
       "      <td>280162</td>\n",
       "      <td>1901013228</td>\n",
       "      <td>5</td>\n",
       "    </tr>\n",
       "    <tr>\n",
       "      <th>20</th>\n",
       "      <td>135616</td>\n",
       "      <td>1802163078</td>\n",
       "      <td>5</td>\n",
       "    </tr>\n",
       "    <tr>\n",
       "      <th>587</th>\n",
       "      <td>374243</td>\n",
       "      <td>1912200604</td>\n",
       "      <td>5</td>\n",
       "    </tr>\n",
       "    <tr>\n",
       "      <th>630</th>\n",
       "      <td>236574</td>\n",
       "      <td>2001250028</td>\n",
       "      <td>5</td>\n",
       "    </tr>\n",
       "    <tr>\n",
       "      <th>223</th>\n",
       "      <td>346359</td>\n",
       "      <td>1902143178</td>\n",
       "      <td>5</td>\n",
       "    </tr>\n",
       "    <tr>\n",
       "      <th>69</th>\n",
       "      <td>226127</td>\n",
       "      <td>1807033136</td>\n",
       "      <td>4</td>\n",
       "    </tr>\n",
       "    <tr>\n",
       "      <th>255</th>\n",
       "      <td>361596</td>\n",
       "      <td>1902183382</td>\n",
       "      <td>5</td>\n",
       "    </tr>\n",
       "  </tbody>\n",
       "</table>\n",
       "</div>"
      ],
      "text/plain": [
       "        uid      row_id  level_data_total\n",
       "184  245618  1901083008                 5\n",
       "264  376697  1903163019                 5\n",
       "5    149925  1711104283                 5\n",
       "172  280162  1901013228                 5\n",
       "20   135616  1802163078                 5\n",
       "587  374243  1912200604                 5\n",
       "630  236574  2001250028                 5\n",
       "223  346359  1902143178                 5\n",
       "69   226127  1807033136                 4\n",
       "255  361596  1902183382                 5"
      ]
     },
     "execution_count": 10,
     "metadata": {},
     "output_type": "execute_result"
    }
   ],
   "source": [
    "import pandas as pd\n",
    "\n",
    "df = pd.read_csv('./ts_evaluate_0.csv')\n",
    "\n",
    "# print('评论数目（总体）：%d' % df.shape[0])\n",
    "# print('评论数目（正向）：%d' % df[df.label==1].shape[0])\n",
    "# print('评论数目（负向）：%d' % df[df.label==0].shape[0])\n",
    "\n",
    "df.sample(10)"
   ]
  },
  {
   "cell_type": "code",
   "execution_count": null,
   "metadata": {
    "pycharm": {
     "is_executing": false
    }
   },
   "outputs": [],
   "source": []
  },
  {
   "cell_type": "code",
   "execution_count": 13,
   "metadata": {
    "pycharm": {
     "is_executing": false
    }
   },
   "outputs": [
    {
     "data": {
      "text/html": [
       "<div>\n",
       "<style scoped>\n",
       "    .dataframe tbody tr th:only-of-type {\n",
       "        vertical-align: middle;\n",
       "    }\n",
       "\n",
       "    .dataframe tbody tr th {\n",
       "        vertical-align: top;\n",
       "    }\n",
       "\n",
       "    .dataframe thead th {\n",
       "        text-align: right;\n",
       "    }\n",
       "</style>\n",
       "<table border=\"1\" class=\"dataframe\">\n",
       "  <thead>\n",
       "    <tr style=\"text-align: right;\">\n",
       "      <th></th>\n",
       "      <th>no</th>\n",
       "      <th>goods_no</th>\n",
       "      <th>quantity</th>\n",
       "      <th>use_time</th>\n",
       "      <th>user_no</th>\n",
       "      <th>ctime</th>\n",
       "      <th>name</th>\n",
       "      <th>ticket is -1</th>\n",
       "    </tr>\n",
       "  </thead>\n",
       "  <tbody>\n",
       "    <tr>\n",
       "      <th>0</th>\n",
       "      <td>1709043015</td>\n",
       "      <td>551</td>\n",
       "      <td>1</td>\n",
       "      <td>2017/9/29</td>\n",
       "      <td>22496</td>\n",
       "      <td>2017/9/4 17:07:51</td>\n",
       "      <td>温泉大餐庙会套票</td>\n",
       "      <td>-1</td>\n",
       "    </tr>\n",
       "    <tr>\n",
       "      <th>1</th>\n",
       "      <td>1709043016</td>\n",
       "      <td>551</td>\n",
       "      <td>1</td>\n",
       "      <td>2017/9/13</td>\n",
       "      <td>22314</td>\n",
       "      <td>2017/9/4 17:16:19</td>\n",
       "      <td>温泉大餐庙会套票</td>\n",
       "      <td>-1</td>\n",
       "    </tr>\n",
       "    <tr>\n",
       "      <th>2</th>\n",
       "      <td>1709043017</td>\n",
       "      <td>465</td>\n",
       "      <td>1</td>\n",
       "      <td>2017/9/4</td>\n",
       "      <td>22375</td>\n",
       "      <td>2017/9/4 17:36:57</td>\n",
       "      <td>大餐庙会2人入格套票</td>\n",
       "      <td>4</td>\n",
       "    </tr>\n",
       "    <tr>\n",
       "      <th>3</th>\n",
       "      <td>1709043017</td>\n",
       "      <td>465</td>\n",
       "      <td>1</td>\n",
       "      <td>2017/9/5</td>\n",
       "      <td>22375</td>\n",
       "      <td>2017/9/4 17:36:57</td>\n",
       "      <td>大餐庙会2人入格套票</td>\n",
       "      <td>4</td>\n",
       "    </tr>\n",
       "    <tr>\n",
       "      <th>4</th>\n",
       "      <td>1709043017</td>\n",
       "      <td>471</td>\n",
       "      <td>1</td>\n",
       "      <td>2017/9/4</td>\n",
       "      <td>22375</td>\n",
       "      <td>2017/9/4 17:36:57</td>\n",
       "      <td>大餐庙会2人上房套票</td>\n",
       "      <td>5</td>\n",
       "    </tr>\n",
       "    <tr>\n",
       "      <th>5</th>\n",
       "      <td>1709043017</td>\n",
       "      <td>471</td>\n",
       "      <td>1</td>\n",
       "      <td>2017/9/5</td>\n",
       "      <td>22375</td>\n",
       "      <td>2017/9/4 17:36:57</td>\n",
       "      <td>大餐庙会2人上房套票</td>\n",
       "      <td>5</td>\n",
       "    </tr>\n",
       "    <tr>\n",
       "      <th>6</th>\n",
       "      <td>1709043017</td>\n",
       "      <td>472</td>\n",
       "      <td>1</td>\n",
       "      <td>2017/9/4</td>\n",
       "      <td>22375</td>\n",
       "      <td>2017/9/4 17:36:57</td>\n",
       "      <td>大餐庙会2人童趣房套票</td>\n",
       "      <td>16</td>\n",
       "    </tr>\n",
       "    <tr>\n",
       "      <th>7</th>\n",
       "      <td>1709043017</td>\n",
       "      <td>472</td>\n",
       "      <td>1</td>\n",
       "      <td>2017/9/5</td>\n",
       "      <td>22375</td>\n",
       "      <td>2017/9/4 17:36:57</td>\n",
       "      <td>大餐庙会2人童趣房套票</td>\n",
       "      <td>16</td>\n",
       "    </tr>\n",
       "    <tr>\n",
       "      <th>8</th>\n",
       "      <td>1709043018</td>\n",
       "      <td>555</td>\n",
       "      <td>1</td>\n",
       "      <td>2017/9/5</td>\n",
       "      <td>45207</td>\n",
       "      <td>2017/9/4 18:13:02</td>\n",
       "      <td>2人入格（含温泉2位+早餐2位）</td>\n",
       "      <td>4</td>\n",
       "    </tr>\n",
       "    <tr>\n",
       "      <th>9</th>\n",
       "      <td>1709043018</td>\n",
       "      <td>1020</td>\n",
       "      <td>2</td>\n",
       "      <td>2017/9/18</td>\n",
       "      <td>45207</td>\n",
       "      <td>2017/9/4 18:13:02</td>\n",
       "      <td>(住店专享)大餐庙会</td>\n",
       "      <td>-1</td>\n",
       "    </tr>\n",
       "  </tbody>\n",
       "</table>\n",
       "</div>"
      ],
      "text/plain": [
       "           no  goods_no  quantity   use_time  user_no              ctime  \\\n",
       "0  1709043015       551         1  2017/9/29    22496  2017/9/4 17:07:51   \n",
       "1  1709043016       551         1  2017/9/13    22314  2017/9/4 17:16:19   \n",
       "2  1709043017       465         1   2017/9/4    22375  2017/9/4 17:36:57   \n",
       "3  1709043017       465         1   2017/9/5    22375  2017/9/4 17:36:57   \n",
       "4  1709043017       471         1   2017/9/4    22375  2017/9/4 17:36:57   \n",
       "5  1709043017       471         1   2017/9/5    22375  2017/9/4 17:36:57   \n",
       "6  1709043017       472         1   2017/9/4    22375  2017/9/4 17:36:57   \n",
       "7  1709043017       472         1   2017/9/5    22375  2017/9/4 17:36:57   \n",
       "8  1709043018       555         1   2017/9/5    45207  2017/9/4 18:13:02   \n",
       "9  1709043018      1020         2  2017/9/18    45207  2017/9/4 18:13:02   \n",
       "\n",
       "               name  ticket is -1  \n",
       "0          温泉大餐庙会套票            -1  \n",
       "1          温泉大餐庙会套票            -1  \n",
       "2        大餐庙会2人入格套票             4  \n",
       "3        大餐庙会2人入格套票             4  \n",
       "4        大餐庙会2人上房套票             5  \n",
       "5        大餐庙会2人上房套票             5  \n",
       "6       大餐庙会2人童趣房套票            16  \n",
       "7       大餐庙会2人童趣房套票            16  \n",
       "8  2人入格（含温泉2位+早餐2位）             4  \n",
       "9        (住店专享)大餐庙会            -1  "
      ]
     },
     "execution_count": 13,
     "metadata": {},
     "output_type": "execute_result"
    }
   ],
   "source": [
    "import pandas as pd\n",
    "import json\n",
    "import math\n",
    "from numpy import NaN\n",
    "from pandas import Series, DataFrame\n",
    "import numpy as np\n",
    "import pandas as pd\n",
    "\n",
    "df = pd.read_csv('./order-data-2.csv')\n",
    "df.head(10)"
   ]
  },
  {
   "cell_type": "code",
   "execution_count": 14,
   "metadata": {
    "pycharm": {
     "is_executing": false
    }
   },
   "outputs": [
    {
     "data": {
      "text/html": [
       "<div>\n",
       "<style scoped>\n",
       "    .dataframe tbody tr th:only-of-type {\n",
       "        vertical-align: middle;\n",
       "    }\n",
       "\n",
       "    .dataframe tbody tr th {\n",
       "        vertical-align: top;\n",
       "    }\n",
       "\n",
       "    .dataframe thead th {\n",
       "        text-align: right;\n",
       "    }\n",
       "</style>\n",
       "<table border=\"1\" class=\"dataframe\">\n",
       "  <thead>\n",
       "    <tr style=\"text-align: right;\">\n",
       "      <th></th>\n",
       "      <th>no</th>\n",
       "      <th>goods_no</th>\n",
       "      <th>user_no</th>\n",
       "    </tr>\n",
       "  </thead>\n",
       "  <tbody>\n",
       "    <tr>\n",
       "      <th>0</th>\n",
       "      <td>1709043015</td>\n",
       "      <td>551</td>\n",
       "      <td>22496</td>\n",
       "    </tr>\n",
       "    <tr>\n",
       "      <th>8</th>\n",
       "      <td>1709043018</td>\n",
       "      <td>555</td>\n",
       "      <td>45207</td>\n",
       "    </tr>\n",
       "    <tr>\n",
       "      <th>6</th>\n",
       "      <td>1709043017</td>\n",
       "      <td>472</td>\n",
       "      <td>22375</td>\n",
       "    </tr>\n",
       "    <tr>\n",
       "      <th>20</th>\n",
       "      <td>1709053002</td>\n",
       "      <td>555</td>\n",
       "      <td>45167</td>\n",
       "    </tr>\n",
       "    <tr>\n",
       "      <th>14</th>\n",
       "      <td>1709043021</td>\n",
       "      <td>688</td>\n",
       "      <td>45212</td>\n",
       "    </tr>\n",
       "    <tr>\n",
       "      <th>4</th>\n",
       "      <td>1709043017</td>\n",
       "      <td>471</td>\n",
       "      <td>22375</td>\n",
       "    </tr>\n",
       "    <tr>\n",
       "      <th>11</th>\n",
       "      <td>1709043019</td>\n",
       "      <td>1020</td>\n",
       "      <td>45208</td>\n",
       "    </tr>\n",
       "    <tr>\n",
       "      <th>10</th>\n",
       "      <td>1709043019</td>\n",
       "      <td>555</td>\n",
       "      <td>45208</td>\n",
       "    </tr>\n",
       "    <tr>\n",
       "      <th>2</th>\n",
       "      <td>1709043017</td>\n",
       "      <td>465</td>\n",
       "      <td>22375</td>\n",
       "    </tr>\n",
       "    <tr>\n",
       "      <th>21</th>\n",
       "      <td>1709053003</td>\n",
       "      <td>471</td>\n",
       "      <td>45223</td>\n",
       "    </tr>\n",
       "  </tbody>\n",
       "</table>\n",
       "</div>"
      ],
      "text/plain": [
       "            no goods_no user_no\n",
       "0   1709043015      551   22496\n",
       "8   1709043018      555   45207\n",
       "6   1709043017      472   22375\n",
       "20  1709053002      555   45167\n",
       "14  1709043021      688   45212\n",
       "4   1709043017      471   22375\n",
       "11  1709043019     1020   45208\n",
       "10  1709043019      555   45208\n",
       "2   1709043017      465   22375\n",
       "21  1709053003      471   45223"
      ]
     },
     "execution_count": 14,
     "metadata": {},
     "output_type": "execute_result"
    }
   ],
   "source": [
    "j = df.to_json(orient='index')\n",
    "j = json.loads(j)\n",
    "\n",
    "new_df = pd.DataFrame({'no': {}, 'goods_no': {}, 'user_no': {}})\n",
    "str_num = 0\n",
    "\n",
    "for idx, val in enumerate(j):\n",
    "    no = df.loc[idx, 'no']\n",
    "    goods_no = df.loc[idx, 'goods_no']\n",
    "    user_no = df.loc[idx, 'user_no']\n",
    "    new_line = [str(no), str(goods_no), str(user_no)]\n",
    "    new_df.loc[str_num] = new_line\n",
    "    str_num += 1\n",
    "\n",
    "new_df = new_df.drop_duplicates()\n",
    "new_df.to_csv(\"./order-data_0.csv\", index=False)\n",
    "new_df.sample(10)"
   ]
  },
  {
   "cell_type": "code",
   "execution_count": 15,
   "metadata": {},
   "outputs": [
    {
     "data": {
      "text/html": [
       "<div>\n",
       "<style scoped>\n",
       "    .dataframe tbody tr th:only-of-type {\n",
       "        vertical-align: middle;\n",
       "    }\n",
       "\n",
       "    .dataframe tbody tr th {\n",
       "        vertical-align: top;\n",
       "    }\n",
       "\n",
       "    .dataframe thead th {\n",
       "        text-align: right;\n",
       "    }\n",
       "</style>\n",
       "<table border=\"1\" class=\"dataframe\">\n",
       "  <thead>\n",
       "    <tr style=\"text-align: right;\">\n",
       "      <th></th>\n",
       "      <th>no</th>\n",
       "      <th>goods_no</th>\n",
       "      <th>user_no</th>\n",
       "    </tr>\n",
       "  </thead>\n",
       "  <tbody>\n",
       "    <tr>\n",
       "      <th>4</th>\n",
       "      <td>1709043017</td>\n",
       "      <td>472</td>\n",
       "      <td>22375</td>\n",
       "    </tr>\n",
       "    <tr>\n",
       "      <th>10</th>\n",
       "      <td>1709043020</td>\n",
       "      <td>1020</td>\n",
       "      <td>45209</td>\n",
       "    </tr>\n",
       "    <tr>\n",
       "      <th>11</th>\n",
       "      <td>1709043021</td>\n",
       "      <td>688</td>\n",
       "      <td>45212</td>\n",
       "    </tr>\n",
       "    <tr>\n",
       "      <th>13</th>\n",
       "      <td>1709053002</td>\n",
       "      <td>555</td>\n",
       "      <td>45167</td>\n",
       "    </tr>\n",
       "    <tr>\n",
       "      <th>9</th>\n",
       "      <td>1709043020</td>\n",
       "      <td>555</td>\n",
       "      <td>45209</td>\n",
       "    </tr>\n",
       "    <tr>\n",
       "      <th>5</th>\n",
       "      <td>1709043018</td>\n",
       "      <td>555</td>\n",
       "      <td>45207</td>\n",
       "    </tr>\n",
       "    <tr>\n",
       "      <th>1</th>\n",
       "      <td>1709043016</td>\n",
       "      <td>551</td>\n",
       "      <td>22314</td>\n",
       "    </tr>\n",
       "    <tr>\n",
       "      <th>0</th>\n",
       "      <td>1709043015</td>\n",
       "      <td>551</td>\n",
       "      <td>22496</td>\n",
       "    </tr>\n",
       "    <tr>\n",
       "      <th>7</th>\n",
       "      <td>1709043019</td>\n",
       "      <td>555</td>\n",
       "      <td>45208</td>\n",
       "    </tr>\n",
       "    <tr>\n",
       "      <th>8</th>\n",
       "      <td>1709043019</td>\n",
       "      <td>1020</td>\n",
       "      <td>45208</td>\n",
       "    </tr>\n",
       "  </tbody>\n",
       "</table>\n",
       "</div>"
      ],
      "text/plain": [
       "            no  goods_no  user_no\n",
       "4   1709043017       472    22375\n",
       "10  1709043020      1020    45209\n",
       "11  1709043021       688    45212\n",
       "13  1709053002       555    45167\n",
       "9   1709043020       555    45209\n",
       "5   1709043018       555    45207\n",
       "1   1709043016       551    22314\n",
       "0   1709043015       551    22496\n",
       "7   1709043019       555    45208\n",
       "8   1709043019      1020    45208"
      ]
     },
     "execution_count": 15,
     "metadata": {},
     "output_type": "execute_result"
    }
   ],
   "source": [
    "import pandas as pd\n",
    "\n",
    "df = pd.read_csv('./order-data_0.csv')\n",
    "\n",
    "# print('评论数目（总体）：%d' % df.shape[0])\n",
    "# print('评论数目（正向）：%d' % df[df.label==1].shape[0])\n",
    "# print('评论数目（负向）：%d' % df[df.label==0].shape[0])\n",
    "\n",
    "df.sample(10)"
   ]
  },
  {
   "cell_type": "code",
   "execution_count": null,
   "metadata": {},
   "outputs": [],
   "source": []
  },
  {
   "cell_type": "code",
   "execution_count": 39,
   "metadata": {},
   "outputs": [
    {
     "data": {
      "text/html": [
       "<div>\n",
       "<style scoped>\n",
       "    .dataframe tbody tr th:only-of-type {\n",
       "        vertical-align: middle;\n",
       "    }\n",
       "\n",
       "    .dataframe tbody tr th {\n",
       "        vertical-align: top;\n",
       "    }\n",
       "\n",
       "    .dataframe thead th {\n",
       "        text-align: right;\n",
       "    }\n",
       "</style>\n",
       "<table border=\"1\" class=\"dataframe\">\n",
       "  <thead>\n",
       "    <tr style=\"text-align: right;\">\n",
       "      <th></th>\n",
       "      <th>no</th>\n",
       "      <th>goods_no</th>\n",
       "      <th>user_no</th>\n",
       "    </tr>\n",
       "  </thead>\n",
       "  <tbody>\n",
       "    <tr>\n",
       "      <th>0</th>\n",
       "      <td>1709043015</td>\n",
       "      <td>551</td>\n",
       "      <td>22496</td>\n",
       "    </tr>\n",
       "    <tr>\n",
       "      <th>1</th>\n",
       "      <td>1709043016</td>\n",
       "      <td>551</td>\n",
       "      <td>22314</td>\n",
       "    </tr>\n",
       "    <tr>\n",
       "      <th>2</th>\n",
       "      <td>1709043017</td>\n",
       "      <td>465</td>\n",
       "      <td>22375</td>\n",
       "    </tr>\n",
       "    <tr>\n",
       "      <th>3</th>\n",
       "      <td>1709043017</td>\n",
       "      <td>471</td>\n",
       "      <td>22375</td>\n",
       "    </tr>\n",
       "    <tr>\n",
       "      <th>4</th>\n",
       "      <td>1709043017</td>\n",
       "      <td>472</td>\n",
       "      <td>22375</td>\n",
       "    </tr>\n",
       "    <tr>\n",
       "      <th>5</th>\n",
       "      <td>1709043018</td>\n",
       "      <td>555</td>\n",
       "      <td>45207</td>\n",
       "    </tr>\n",
       "    <tr>\n",
       "      <th>6</th>\n",
       "      <td>1709043018</td>\n",
       "      <td>1020</td>\n",
       "      <td>45207</td>\n",
       "    </tr>\n",
       "    <tr>\n",
       "      <th>7</th>\n",
       "      <td>1709043019</td>\n",
       "      <td>555</td>\n",
       "      <td>45208</td>\n",
       "    </tr>\n",
       "    <tr>\n",
       "      <th>8</th>\n",
       "      <td>1709043019</td>\n",
       "      <td>1020</td>\n",
       "      <td>45208</td>\n",
       "    </tr>\n",
       "    <tr>\n",
       "      <th>9</th>\n",
       "      <td>1709043020</td>\n",
       "      <td>555</td>\n",
       "      <td>45209</td>\n",
       "    </tr>\n",
       "  </tbody>\n",
       "</table>\n",
       "</div>"
      ],
      "text/plain": [
       "           no  goods_no  user_no\n",
       "0  1709043015       551    22496\n",
       "1  1709043016       551    22314\n",
       "2  1709043017       465    22375\n",
       "3  1709043017       471    22375\n",
       "4  1709043017       472    22375\n",
       "5  1709043018       555    45207\n",
       "6  1709043018      1020    45207\n",
       "7  1709043019       555    45208\n",
       "8  1709043019      1020    45208\n",
       "9  1709043020       555    45209"
      ]
     },
     "execution_count": 39,
     "metadata": {},
     "output_type": "execute_result"
    }
   ],
   "source": [
    "import pandas as pd\n",
    "import json\n",
    "import math\n",
    "from numpy import NaN\n",
    "from pandas import Series, DataFrame\n",
    "import numpy as np\n",
    "import pandas as pd\n",
    "\n",
    "order_df = pd.read_csv('./order-data_0.csv')\n",
    "order_df.head(10)"
   ]
  },
  {
   "cell_type": "code",
   "execution_count": 40,
   "metadata": {},
   "outputs": [
    {
     "data": {
      "text/html": [
       "<div>\n",
       "<style scoped>\n",
       "    .dataframe tbody tr th:only-of-type {\n",
       "        vertical-align: middle;\n",
       "    }\n",
       "\n",
       "    .dataframe tbody tr th {\n",
       "        vertical-align: top;\n",
       "    }\n",
       "\n",
       "    .dataframe thead th {\n",
       "        text-align: right;\n",
       "    }\n",
       "</style>\n",
       "<table border=\"1\" class=\"dataframe\">\n",
       "  <thead>\n",
       "    <tr style=\"text-align: right;\">\n",
       "      <th></th>\n",
       "      <th>uid</th>\n",
       "      <th>row_id</th>\n",
       "      <th>level_data_total</th>\n",
       "    </tr>\n",
       "  </thead>\n",
       "  <tbody>\n",
       "    <tr>\n",
       "      <th>0</th>\n",
       "      <td>145724</td>\n",
       "      <td>1711093029</td>\n",
       "      <td>5</td>\n",
       "    </tr>\n",
       "    <tr>\n",
       "      <th>1</th>\n",
       "      <td>145724</td>\n",
       "      <td>1711093028</td>\n",
       "      <td>5</td>\n",
       "    </tr>\n",
       "    <tr>\n",
       "      <th>2</th>\n",
       "      <td>145724</td>\n",
       "      <td>1711093020</td>\n",
       "      <td>5</td>\n",
       "    </tr>\n",
       "    <tr>\n",
       "      <th>3</th>\n",
       "      <td>70870</td>\n",
       "      <td>1710143133</td>\n",
       "      <td>5</td>\n",
       "    </tr>\n",
       "    <tr>\n",
       "      <th>4</th>\n",
       "      <td>21875</td>\n",
       "      <td>1709143024</td>\n",
       "      <td>5</td>\n",
       "    </tr>\n",
       "    <tr>\n",
       "      <th>5</th>\n",
       "      <td>149925</td>\n",
       "      <td>1711104283</td>\n",
       "      <td>5</td>\n",
       "    </tr>\n",
       "    <tr>\n",
       "      <th>6</th>\n",
       "      <td>71746</td>\n",
       "      <td>1710313307</td>\n",
       "      <td>5</td>\n",
       "    </tr>\n",
       "    <tr>\n",
       "      <th>7</th>\n",
       "      <td>152490</td>\n",
       "      <td>1711133142</td>\n",
       "      <td>5</td>\n",
       "    </tr>\n",
       "    <tr>\n",
       "      <th>8</th>\n",
       "      <td>147048</td>\n",
       "      <td>1711103437</td>\n",
       "      <td>5</td>\n",
       "    </tr>\n",
       "    <tr>\n",
       "      <th>9</th>\n",
       "      <td>71963</td>\n",
       "      <td>1710213167</td>\n",
       "      <td>5</td>\n",
       "    </tr>\n",
       "  </tbody>\n",
       "</table>\n",
       "</div>"
      ],
      "text/plain": [
       "      uid      row_id  level_data_total\n",
       "0  145724  1711093029                 5\n",
       "1  145724  1711093028                 5\n",
       "2  145724  1711093020                 5\n",
       "3   70870  1710143133                 5\n",
       "4   21875  1709143024                 5\n",
       "5  149925  1711104283                 5\n",
       "6   71746  1710313307                 5\n",
       "7  152490  1711133142                 5\n",
       "8  147048  1711103437                 5\n",
       "9   71963  1710213167                 5"
      ]
     },
     "execution_count": 40,
     "metadata": {},
     "output_type": "execute_result"
    }
   ],
   "source": [
    "import pandas as pd\n",
    "import json\n",
    "import math\n",
    "from numpy import NaN\n",
    "from pandas import Series, DataFrame\n",
    "import numpy as np\n",
    "import pandas as pd\n",
    "\n",
    "evaluate_df = pd.read_csv('./ts_evaluate_0.csv')\n",
    "evaluate_df.head(10)"
   ]
  },
  {
   "cell_type": "code",
   "execution_count": 41,
   "metadata": {},
   "outputs": [
    {
     "data": {
      "text/html": [
       "<div>\n",
       "<style scoped>\n",
       "    .dataframe tbody tr th:only-of-type {\n",
       "        vertical-align: middle;\n",
       "    }\n",
       "\n",
       "    .dataframe tbody tr th {\n",
       "        vertical-align: top;\n",
       "    }\n",
       "\n",
       "    .dataframe thead th {\n",
       "        text-align: right;\n",
       "    }\n",
       "</style>\n",
       "<table border=\"1\" class=\"dataframe\">\n",
       "  <thead>\n",
       "    <tr style=\"text-align: right;\">\n",
       "      <th></th>\n",
       "      <th>no</th>\n",
       "      <th>goods_no</th>\n",
       "      <th>user_no</th>\n",
       "      <th>level_data_total</th>\n",
       "    </tr>\n",
       "  </thead>\n",
       "  <tbody>\n",
       "    <tr>\n",
       "      <th>3195</th>\n",
       "      <td>1709043018</td>\n",
       "      <td>555</td>\n",
       "      <td>45207</td>\n",
       "      <td></td>\n",
       "    </tr>\n",
       "    <tr>\n",
       "      <th>6390</th>\n",
       "      <td>1709043020</td>\n",
       "      <td>1020</td>\n",
       "      <td>45209</td>\n",
       "      <td></td>\n",
       "    </tr>\n",
       "    <tr>\n",
       "      <th>2556</th>\n",
       "      <td>1709043017</td>\n",
       "      <td>472</td>\n",
       "      <td>22375</td>\n",
       "      <td></td>\n",
       "    </tr>\n",
       "    <tr>\n",
       "      <th>8325</th>\n",
       "      <td>180108300666</td>\n",
       "      <td>555</td>\n",
       "      <td>45167</td>\n",
       "      <td>4</td>\n",
       "    </tr>\n",
       "    <tr>\n",
       "      <th>3834</th>\n",
       "      <td>1709043018</td>\n",
       "      <td>1020</td>\n",
       "      <td>45207</td>\n",
       "      <td></td>\n",
       "    </tr>\n",
       "    <tr>\n",
       "      <th>5112</th>\n",
       "      <td>1709043019</td>\n",
       "      <td>1020</td>\n",
       "      <td>45208</td>\n",
       "      <td></td>\n",
       "    </tr>\n",
       "    <tr>\n",
       "      <th>639</th>\n",
       "      <td>1709043016</td>\n",
       "      <td>551</td>\n",
       "      <td>22314</td>\n",
       "      <td></td>\n",
       "    </tr>\n",
       "    <tr>\n",
       "      <th>1278</th>\n",
       "      <td>1709043017</td>\n",
       "      <td>465</td>\n",
       "      <td>22375</td>\n",
       "      <td></td>\n",
       "    </tr>\n",
       "    <tr>\n",
       "      <th>1917</th>\n",
       "      <td>1709043017</td>\n",
       "      <td>471</td>\n",
       "      <td>22375</td>\n",
       "      <td></td>\n",
       "    </tr>\n",
       "    <tr>\n",
       "      <th>4473</th>\n",
       "      <td>1709043019</td>\n",
       "      <td>555</td>\n",
       "      <td>45208</td>\n",
       "      <td></td>\n",
       "    </tr>\n",
       "  </tbody>\n",
       "</table>\n",
       "</div>"
      ],
      "text/plain": [
       "                no goods_no user_no level_data_total\n",
       "3195    1709043018      555   45207                 \n",
       "6390    1709043020     1020   45209                 \n",
       "2556    1709043017      472   22375                 \n",
       "8325  180108300666      555   45167                4\n",
       "3834    1709043018     1020   45207                 \n",
       "5112    1709043019     1020   45208                 \n",
       "639     1709043016      551   22314                 \n",
       "1278    1709043017      465   22375                 \n",
       "1917    1709043017      471   22375                 \n",
       "4473    1709043019      555   45208                 "
      ]
     },
     "execution_count": 41,
     "metadata": {},
     "output_type": "execute_result"
    }
   ],
   "source": [
    "order_j = order_df.to_json(orient='index')\n",
    "order_j = json.loads(order_j)\n",
    "\n",
    "evaluate_j = evaluate_df.to_json(orient='index')\n",
    "evaluate_j = json.loads(evaluate_j)\n",
    "\n",
    "new_df = pd.DataFrame({'no': {}, 'goods_no': {}, 'user_no': {}, 'level_data_total':{}})\n",
    "str_num = 0\n",
    "\n",
    "for order_idx, order_val in enumerate(order_j):\n",
    "    for evaluate_idx, evaluate_val in enumerate(evaluate_j):\n",
    "        no = order_df.loc[order_idx, 'no']\n",
    "        goods_no = order_df.loc[order_idx, 'goods_no']\n",
    "        user_no = order_df.loc[order_idx, 'user_no']\n",
    "\n",
    "        if evaluate_df.loc[evaluate_idx, 'row_id'] == order_df.loc[order_idx, 'no']:\n",
    "            level_data_total = evaluate_df.loc[evaluate_idx, 'level_data_total']\n",
    "        else:\n",
    "            level_data_total = \"\"\n",
    "        new_line = [str(no), str(goods_no), str(user_no), str(level_data_total)]\n",
    "        new_df.loc[str_num] = new_line\n",
    "        str_num += 1\n",
    "\n",
    "new_df = new_df.drop_duplicates()\n",
    "new_df.to_csv(\"./new_df.csv\", index=False)\n",
    "new_df.sample(10)"
   ]
  },
  {
   "cell_type": "code",
   "execution_count": null,
   "metadata": {},
   "outputs": [],
   "source": []
  },
  {
   "cell_type": "code",
   "execution_count": null,
   "metadata": {},
   "outputs": [],
   "source": []
  },
  {
   "cell_type": "code",
   "execution_count": null,
   "metadata": {},
   "outputs": [],
   "source": []
  },
  {
   "cell_type": "code",
   "execution_count": null,
   "metadata": {},
   "outputs": [],
   "source": []
  },
  {
   "cell_type": "code",
   "execution_count": null,
   "metadata": {},
   "outputs": [],
   "source": []
  },
  {
   "cell_type": "code",
   "execution_count": null,
   "metadata": {},
   "outputs": [],
   "source": []
  }
 ],
 "metadata": {
  "kernelspec": {
   "display_name": "Python 3",
   "language": "python",
   "name": "python3"
  },
  "language_info": {
   "codemirror_mode": {
    "name": "ipython",
    "version": 3
   },
   "file_extension": ".py",
   "mimetype": "text/x-python",
   "name": "python",
   "nbconvert_exporter": "python",
   "pygments_lexer": "ipython3",
   "version": "3.7.3"
  }
 },
 "nbformat": 4,
 "nbformat_minor": 1
}
